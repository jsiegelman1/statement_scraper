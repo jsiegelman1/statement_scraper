{
 "cells": [
  {
   "cell_type": "code",
   "execution_count": 4,
   "id": "d22a6341",
   "metadata": {
    "scrolled": true
   },
   "outputs": [
    {
     "ename": "SyntaxError",
     "evalue": "invalid syntax (<ipython-input-4-5cfb94a6e084>, line 1)",
     "output_type": "error",
     "traceback": [
      "\u001b[1;36m  File \u001b[1;32m\"<ipython-input-4-5cfb94a6e084>\"\u001b[1;36m, line \u001b[1;32m1\u001b[0m\n\u001b[1;33m    pip install pdfplumber\u001b[0m\n\u001b[1;37m        ^\u001b[0m\n\u001b[1;31mSyntaxError\u001b[0m\u001b[1;31m:\u001b[0m invalid syntax\n"
     ]
    }
   ],
   "source": [
    "pip install pdfplumber\n"
   ]
  },
  {
   "cell_type": "markdown",
   "id": "51b6389a",
   "metadata": {},
   "source": [
    "Key Sections for parsing:\n",
    "Metadata (name, branch, accounts)\n",
    "For each account:\n",
    "Start/end balance\n",
    "List of transactions\n",
    "daily balance\n",
    "\n",
    "General Schema:\n",
    "users -> id, name, address, etc\n",
    "account -> id, user_id, account type, account number\n",
    "statement -> id, account_id, start/end date, start/end balance\n",
    "transaction, id, statment_id, date, value, description"
   ]
  },
  {
   "cell_type": "code",
   "execution_count": 51,
   "id": "f29e9e6b",
   "metadata": {},
   "outputs": [
    {
     "name": "stdout",
     "output_type": "stream",
     "text": [
      "['HOWARD RELATIONSHIP CHECKING', 'XXXXXXXX4101']\n",
      "[(1, 1, '09/04/2018', 'Signature POS Debit 09/02 MD BALTIMORE GIANT FOOD', '-57.48'), (2, 1, '09/04/2018', 'Nationstar dba Mr Cooper XXXXXX6179', '-1989.6'), (3, 1, '09/05/2018', 'HMS WARRANTY 8002473680 5829389', '-42.99'), (4, 1, '09/05/2018', 'SAMS CLUB MC ONLINE PMT CKF426104254POS', '-4671.42'), (5, 1, '09/05/2018', 'DISCOVER BANK ETRANSFER ', '-8212.0'), (6, 1, '09/06/2018', 'BLTMORE GAS ELEC ONLINE PMT ', '-160.75'), (7, 1, '09/06/2018', 'DEVONSHIRE II CO CONS CP BC5198', '-195.0'), (8, 1, '09/07/2018', 'DEPOSIT', '653.25'), (9, 1, '09/07/2018', 'TARGET ONLINE PMT ', '-88.59'), (10, 1, '09/10/2018', 'ATM Withdrawal 09/07 MD BALTIMORE 10101', '-180.0'), (11, 1, '09/10/2018', 'Signature POS Debit 09/08 MD BALTIMORE GIANT FOOD ', '-70.11'), (12, 1, '09/10/2018', 'L A FITNESS ', '-12.98'), (13, 1, '09/11/2018', 'AT&T MOBILITY ONLINE PMT ', '-116.22'), (14, 1, '09/14/2018', 'DEPOSIT', '606.62'), (15, 1, '09/14/2018', 'DIRECT DEP ', '-3033.33'), (16, 1, '09/14/2018', 'Signature POS Debit 09/13 MD BALTIMORE GIANT  ', '-19.86'), (17, 1, '09/17/2018', 'ATM Withdrawal 09/15 WV INWOOD ', '-400.0'), (18, 1, '09/17/2018', 'Signature POS Debit 09/16 MD BALTIMORE GIANT ', '-14.06'), (19, 1, '09/17/2018', 'Signature POS Debit 09/15 MD BALTIMORE GIANT FOOD ', '-44.9'), (20, 1, '09/18/2018', 'THE HOME DEPOT ONLINE PMT POS', '-9.51'), (21, 1, '09/18/2018', '00RETIRE2020 TRAN000141 000001018370220', '-541.66'), (22, 1, '09/20/2018', 71557915.0, '-417.32')]\n"
     ]
    }
   ],
   "source": [
    "#Main code\n",
    "import pdfplumber\n",
    "import re\n",
    "import sqlite3\n",
    "\n",
    "\n",
    "pdf_text = ''\n",
    "with pdfplumber.open(r'sample_statement.pdf') as pdf:\n",
    "    for p in pdf.pages:\n",
    "        pdf_text = pdf_text + p.extract_text()\n",
    "        \n",
    "split = pdf_text.split('\\n')\n",
    "\n",
    "#Hard coded\n",
    "name = split[6]\n",
    "address = split[7]\n",
    "account = split[19].split('-')\n",
    "\n",
    "cur.execute('''INSERT INTO customers (name, address) VALUES (?, ?)''', (name, address))\n",
    "cur.execute('''INSERT INTO accounts (customer_id, acc_type, acc_number) VALUES (?, ?, ?)'''\n",
    "            , (cur.lastrowid, account[0], account[1]))\n",
    "\n",
    "statement_data = parse_summary(pdf_text)\n",
    "cur.execute('''INSERT INTO statements (account_id, bal_start, bal_end, date_start, date_end) VALUES (?, ?, ?, ?, ?)''',\n",
    "           (cur.lastrowid, statement_data[0], statement_data[1], statement_data[2], statement_data[3]))\n",
    "\n",
    "statement_id = cur.lastrowid\n",
    "txn_data = parse_activity(pdf_text[pdf_text.find(\"Account Activity\"):pdf_text.find(\"Daily Balances\")])\n",
    "cur.executemany('''INSERT INTO transactions (statement_id, date, value, description) VALUES (?, ?, ?, ?)''',\n",
    "           (list(map(lambda x: (cur.lastrowid, x[0], x[1], x[2]), txn_data)))) #run for each transaction, adding statement ID\n",
    "\n",
    "con.commit()\n",
    "cur.execute('''SELECT * FROM transactions''')\n",
    "print(cur.fetchall())"
   ]
  },
  {
   "cell_type": "code",
   "execution_count": 40,
   "id": "106995f3",
   "metadata": {},
   "outputs": [],
   "source": [
    "#Utility functions\n",
    "def parse_activity(chunk):\n",
    "    data = []\n",
    "    r = re.compile(r'^\\d\\d\\/\\d\\d\\/\\d\\d\\d\\d') #regex matches lines that start dd/mm/yyyy without fully checking the date\n",
    "    activity = list(filter(r.match, chunk.split('\\n'))) #filter by regex\n",
    "    for line in activity:\n",
    "        date = line[:10]\n",
    "        first_amount = line.find(\"$\")\n",
    "        description = line[11:first_amount - 1]\n",
    "        value = float(line[first_amount + 1:line.find(\"$\", first_amount + 1)].replace(\",\",\"\"))\n",
    "        if description not in [\"DEPOSIT\", \"DIRECT DEP\"]:\n",
    "            value = -value\n",
    "        if \"Balance\" not in description and len(description) > 0:\n",
    "            data.append((date, description, value))\n",
    "    return data\n",
    "    \n",
    "def parse_summary(data):\n",
    "    chunk = data[data.find(\"Account Summary\"):]\n",
    "    split = chunk.split('\\n')\n",
    "    start_line = split[2]\n",
    "    end_line = split[5]\n",
    "    start_date = start_line[:10]\n",
    "    end_date = end_line[:10]\n",
    "    start_bal = start_line[start_line.find('$'):]\n",
    "    end_bal = end_line[end_line.find('$'):]\n",
    "    return (start_bal, end_bal, start_date, end_date)"
   ]
  },
  {
   "cell_type": "code",
   "execution_count": 50,
   "id": "4dd55ed9",
   "metadata": {},
   "outputs": [],
   "source": [
    "#DB setup\n",
    "import sqlite3\n",
    "con = sqlite3.connect('statement.db')\n",
    "cur = con.cursor()\n",
    "\n",
    "cur.execute('''DROP TABLE IF EXISTS customers''')\n",
    "cur.execute('''CREATE TABLE customers\n",
    "               (id integer primary key, name text, address text)''')\n",
    "\n",
    "cur.execute('''DROP TABLE IF EXISTS accounts''')\n",
    "cur.execute('''CREATE TABLE accounts\n",
    "               (id integer primary key, customer_id integer not null,\n",
    "               acc_type text, acc_number integer,\n",
    "               FOREIGN KEY (customer_id)\n",
    "       REFERENCES customer (id) )''')\n",
    "\n",
    "cur.execute('''DROP TABLE IF EXISTS statements''')\n",
    "cur.execute('''CREATE TABLE statements\n",
    "               (id integer primary key, account_id integer,\n",
    "               bal_start real, bal_end real, date_start text, date_end text,\n",
    "               foreign key(account_id) references accounts(id))''')\n",
    "\n",
    "cur.execute('''DROP TABLE IF EXISTS transactions''')\n",
    "cur.execute('''CREATE TABLE transactions\n",
    "               (id integer primary key, statement_id integer, date text, value real, description text,\n",
    "               foreign key (statement_id) references statements(id))''')\n",
    "con.commit()\n",
    "#TODO: add daily balances\n"
   ]
  },
  {
   "cell_type": "code",
   "execution_count": 52,
   "id": "7374a16c",
   "metadata": {},
   "outputs": [
    {
     "name": "stdout",
     "output_type": "stream",
     "text": [
      "[(1, 1, '09/04/2018', 'Signature POS Debit 09/02 MD BALTIMORE GIANT FOOD', '-57.48'), (2, 1, '09/04/2018', 'Nationstar dba Mr Cooper XXXXXX6179', '-1989.6'), (3, 1, '09/05/2018', 'HMS WARRANTY 8002473680 5829389', '-42.99'), (4, 1, '09/05/2018', 'SAMS CLUB MC ONLINE PMT CKF426104254POS', '-4671.42'), (5, 1, '09/05/2018', 'DISCOVER BANK ETRANSFER ', '-8212.0'), (6, 1, '09/06/2018', 'BLTMORE GAS ELEC ONLINE PMT ', '-160.75'), (7, 1, '09/06/2018', 'DEVONSHIRE II CO CONS CP BC5198', '-195.0'), (8, 1, '09/07/2018', 'DEPOSIT', '653.25'), (9, 1, '09/07/2018', 'TARGET ONLINE PMT ', '-88.59'), (10, 1, '09/10/2018', 'ATM Withdrawal 09/07 MD BALTIMORE 10101', '-180.0'), (11, 1, '09/10/2018', 'Signature POS Debit 09/08 MD BALTIMORE GIANT FOOD ', '-70.11'), (12, 1, '09/10/2018', 'L A FITNESS ', '-12.98'), (13, 1, '09/11/2018', 'AT&T MOBILITY ONLINE PMT ', '-116.22'), (14, 1, '09/14/2018', 'DEPOSIT', '606.62'), (15, 1, '09/14/2018', 'DIRECT DEP ', '-3033.33'), (16, 1, '09/14/2018', 'Signature POS Debit 09/13 MD BALTIMORE GIANT  ', '-19.86'), (17, 1, '09/17/2018', 'ATM Withdrawal 09/15 WV INWOOD ', '-400.0'), (18, 1, '09/17/2018', 'Signature POS Debit 09/16 MD BALTIMORE GIANT ', '-14.06'), (19, 1, '09/17/2018', 'Signature POS Debit 09/15 MD BALTIMORE GIANT FOOD ', '-44.9'), (20, 1, '09/18/2018', 'THE HOME DEPOT ONLINE PMT POS', '-9.51'), (21, 1, '09/18/2018', '00RETIRE2020 TRAN000141 000001018370220', '-541.66'), (22, 1, '09/20/2018', 71557915.0, '-417.32')]\n"
     ]
    }
   ],
   "source": [
    "cur.execute('''SELECT * FROM transactions''')\n",
    "print(cur.fetchall())\n",
    "                    "
   ]
  }
 ],
 "metadata": {
  "kernelspec": {
   "display_name": "Python 3",
   "language": "python",
   "name": "python3"
  },
  "language_info": {
   "codemirror_mode": {
    "name": "ipython",
    "version": 3
   },
   "file_extension": ".py",
   "mimetype": "text/x-python",
   "name": "python",
   "nbconvert_exporter": "python",
   "pygments_lexer": "ipython3",
   "version": "3.8.8"
  }
 },
 "nbformat": 4,
 "nbformat_minor": 5
}
